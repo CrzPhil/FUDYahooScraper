{
 "cells": [
  {
   "cell_type": "code",
   "execution_count": 4,
   "id": "0d496eb6",
   "metadata": {
    "scrolled": true
   },
   "outputs": [
    {
     "name": "stderr",
     "output_type": "stream",
     "text": [
      "/usr/lib/python3/dist-packages/requests/__init__.py:89: RequestsDependencyWarning: urllib3 (1.26.9) or chardet (3.0.4) doesn't match a supported version!\n",
      "  warnings.warn(\"urllib3 ({}) or chardet ({}) doesn't match a supported \"\n"
     ]
    }
   ],
   "source": [
    "import requests\n",
    "from bs4 import BeautifulSoup as soup"
   ]
  },
  {
   "cell_type": "code",
   "execution_count": 13,
   "id": "e5693c29",
   "metadata": {},
   "outputs": [],
   "source": [
    "headers = {\n",
    "'Accept': 'text/html,application/xhtml+xml,application/xml;q=0.9,image/avif,image/webp,*/*;q=0.8',\n",
    "'Accept-Encoding': 'gzip, deflate',\n",
    "'Accept-Language': 'en-US,en;q=0.5',\n",
    "'User-Agent' : 'Mozilla/5.0 (X11; Ubuntu; Linux x86_64; rv:100.0) Gecko/20100101 Firefox/100.0'\n",
    "}"
   ]
  },
  {
   "cell_type": "code",
   "execution_count": 14,
   "id": "d8bf965a",
   "metadata": {},
   "outputs": [],
   "source": [
    "r = requests.get('https://finance.yahoo.com/quote/AAPL/financials?p=AAPL', headers=headers)"
   ]
  },
  {
   "cell_type": "code",
   "execution_count": 17,
   "id": "9a051940",
   "metadata": {},
   "outputs": [],
   "source": [
    "soup = soup(r.content, 'html.parser')"
   ]
  },
  {
   "cell_type": "code",
   "execution_count": 20,
   "id": "a74b26f4",
   "metadata": {},
   "outputs": [
    {
     "data": {
      "text/plain": [
       "[<span class=\"info hover\" data-tooltip=\"Οι ιστότοποι και οι εφαρμογές που ανήκουν και των οποίων η διαχείριση πραγματοποιείται από εμάς, συμπεριλαμβανομένων των προϊόντων Yahoo, Autoblog, Engadget, TechCrunch και AOL. Αυτές οι επωνυμίες παρέχουν υπηρεσίες περιεχομένου, εμπορίου και ταχυδρομείου σε εκατοντάδες εκατομμύρια χρήστες.\">Yahoo</span>,\n",
       " <span class=\"info hover\" data-tooltip=\"Τα δεδομένα γεωγραφικής τοποθεσίας που περιγράφουν με εύλογη ακρίβεια την πραγματική φυσική τοποθεσία ενός προσώπου ή μιας συσκευής, όπως είναι η τοποθεσία GPS.\">Ακριβής τοποθεσία</span>,\n",
       " <span class=\"scroll-down-arrow\"></span>]"
      ]
     },
     "execution_count": 20,
     "metadata": {},
     "output_type": "execute_result"
    }
   ],
   "source": [
    "soup.find_all('span')"
   ]
  },
  {
   "cell_type": "code",
   "execution_count": null,
   "id": "602c8aec",
   "metadata": {},
   "outputs": [],
   "source": []
  }
 ],
 "metadata": {
  "kernelspec": {
   "display_name": "Python 3 (ipykernel)",
   "language": "python",
   "name": "python3"
  },
  "language_info": {
   "codemirror_mode": {
    "name": "ipython",
    "version": 3
   },
   "file_extension": ".py",
   "mimetype": "text/x-python",
   "name": "python",
   "nbconvert_exporter": "python",
   "pygments_lexer": "ipython3",
   "version": "3.8.10"
  }
 },
 "nbformat": 4,
 "nbformat_minor": 5
}
