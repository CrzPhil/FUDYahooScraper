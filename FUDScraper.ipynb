{
 "cells": [
  {
   "cell_type": "code",
   "execution_count": 21,
   "id": "89da5db4",
   "metadata": {},
   "outputs": [],
   "source": [
    "from selenium import webdriver\n",
    "from selenium.webdriver.common.by import By\n",
    "from selenium.webdriver.firefox.service import Service\n",
    "from webdriver_manager.firefox import GeckoDriverManager"
   ]
  },
  {
   "cell_type": "code",
   "execution_count": 136,
   "id": "a47d9f40",
   "metadata": {},
   "outputs": [],
   "source": [
    "import numpy as np"
   ]
  },
  {
   "cell_type": "code",
   "execution_count": 11,
   "id": "a5a4e4cd",
   "metadata": {},
   "outputs": [
    {
     "name": "stderr",
     "output_type": "stream",
     "text": [
      "\n",
      "\n",
      "====== WebDriver manager ======\n",
      "Current firefox version is 100.0\n",
      "Get LATEST geckodriver version for 100.0 firefox\n",
      "There is no [linux64] geckodriver for browser 100.0 in cache\n",
      "Getting latest mozilla release info for v0.31.0\n",
      "Trying to download new driver from https://github.com/mozilla/geckodriver/releases/download/v0.31.0/geckodriver-v0.31.0-linux64.tar.gz\n",
      "Driver has been saved in cache [/home/pmg/.wdm/drivers/geckodriver/linux64/v0.31.0]\n"
     ]
    }
   ],
   "source": [
    "driver = webdriver.Firefox(service=Service(GeckoDriverManager().install()))"
   ]
  },
  {
   "cell_type": "code",
   "execution_count": 151,
   "id": "6df952e6",
   "metadata": {},
   "outputs": [],
   "source": [
    "URL = \"https://finance.yahoo.com/\""
   ]
  },
  {
   "cell_type": "code",
   "execution_count": 13,
   "id": "3f776a6a",
   "metadata": {},
   "outputs": [],
   "source": [
    "driver.get(URL)"
   ]
  },
  {
   "cell_type": "code",
   "execution_count": 152,
   "id": "267d3ca1",
   "metadata": {},
   "outputs": [],
   "source": [
    "def getTrendingTickers():\n",
    "    tickers = set()\n",
    "    driver.get(\"https://finance.yahoo.com/trending-tickers\")\n",
    "    table = driver.find_element(By.TAG_NAME, \"table\")\n",
    "    tbody = table.find_element(By.TAG_NAME, \"tbody\")\n",
    "    rows = tbody.find_elements(By.TAG_NAME, \"tr\")\n",
    "    for row in rows:\n",
    "        tickers.add(row.text.strip().split('\\n')[0])\n",
    "    return tickers"
   ]
  },
  {
   "cell_type": "code",
   "execution_count": 158,
   "id": "20a7f380",
   "metadata": {},
   "outputs": [],
   "source": [
    "def getFinancials(ticker):\n",
    "    out = []\n",
    "    c_url = URL + f\"quote/{ticker}/financials?p={ticker}\"\n",
    "    driver.get(c_url)\n",
    "    try:\n",
    "        header = driver.find_element(By.CLASS_NAME, \"D\\(tbhg\\)\")\n",
    "        cols = header.find_elements(By.TAG_NAME, \"span\")\n",
    "        table = driver.find_element(By.CLASS_NAME, \"D\\(tbrg\\)\")\n",
    "        rows = table.find_elements(By.CSS_SELECTOR, \"div[data-test='fin-row']\")\n",
    "    except Exception:\n",
    "        return []\n",
    "    out.append([col.text for col in cols])\n",
    "    \n",
    "    for row in rows:\n",
    "        out.append(row.text)\n",
    "        \n",
    "    return out"
   ]
  },
  {
   "cell_type": "code",
   "execution_count": 51,
   "id": "d26504bf",
   "metadata": {},
   "outputs": [
    {
     "name": "stdout",
     "output_type": "stream",
     "text": [
      "{'OXY', 'TSLA', 'ATER', 'CL=F', 'AGRI', 'IMPP', 'SAVE', '^CMC200', 'T', 'DTST', 'NET', 'NIO', 'CMRX', 'LLY', 'KMI', 'INDO', 'SNDL', 'BBIG', 'CM.TO', 'WIX', 'CVX', 'MRK', 'DDOG', 'IQ', 'TNXP', 'NBEV', 'XOM', 'CHGG', 'TWOU', 'TLRY'}\n"
     ]
    }
   ],
   "source": [
    "trending_tickers = getTrendingTickers()\n",
    "print(trending_tickers)"
   ]
  },
  {
   "cell_type": "code",
   "execution_count": 63,
   "id": "e533ab62",
   "metadata": {},
   "outputs": [],
   "source": [
    "ticker = 'TSLA'\n",
    "current_url = URL + f\"quote/{ticker}?p={ticker}\""
   ]
  },
  {
   "cell_type": "code",
   "execution_count": 64,
   "id": "3263357f",
   "metadata": {},
   "outputs": [
    {
     "data": {
      "text/plain": [
       "'https://finance.yahoo.com/quote/TSLA?p=TSLA'"
      ]
     },
     "execution_count": 64,
     "metadata": {},
     "output_type": "execute_result"
    }
   ],
   "source": [
    "current_url"
   ]
  },
  {
   "cell_type": "code",
   "execution_count": 65,
   "id": "194ca2d4",
   "metadata": {},
   "outputs": [],
   "source": [
    "driver.get(current_url)"
   ]
  },
  {
   "cell_type": "code",
   "execution_count": 127,
   "id": "5307a2cd",
   "metadata": {},
   "outputs": [],
   "source": [
    "header = driver.find_element(By.CLASS_NAME, \"D\\(tbhg\\)\")"
   ]
  },
  {
   "cell_type": "code",
   "execution_count": 129,
   "id": "8f3ae6ba",
   "metadata": {},
   "outputs": [],
   "source": [
    "cols = header.find_elements(By.TAG_NAME, \"span\")"
   ]
  },
  {
   "cell_type": "code",
   "execution_count": 135,
   "id": "3c0307ac",
   "metadata": {},
   "outputs": [
    {
     "name": "stdout",
     "output_type": "stream",
     "text": [
      "Breakdown\n",
      "TTM\n",
      "12/30/2021\n",
      "12/30/2020\n",
      "12/30/2019\n",
      "12/30/2018\n"
     ]
    }
   ],
   "source": [
    "for col in cols:\n",
    "    print(col.text)"
   ]
  },
  {
   "cell_type": "code",
   "execution_count": 112,
   "id": "6796a561",
   "metadata": {},
   "outputs": [],
   "source": [
    "table = driver.find_element(By.CLASS_NAME, \"D\\(tbrg\\)\")"
   ]
  },
  {
   "cell_type": "code",
   "execution_count": 123,
   "id": "e28f4390",
   "metadata": {},
   "outputs": [],
   "source": [
    "rows = table.find_elements(By.CSS_SELECTOR, \"div[data-test='fin-row']\")"
   ]
  },
  {
   "cell_type": "code",
   "execution_count": 146,
   "id": "802f9265",
   "metadata": {},
   "outputs": [
    {
     "data": {
      "text/plain": [
       "'Gross Profit\\n16,851,000 13,606,000 6,630,000 4,069,000 4,042,021'"
      ]
     },
     "execution_count": 146,
     "metadata": {},
     "output_type": "execute_result"
    }
   ],
   "source": [
    "rows[2].text"
   ]
  },
  {
   "cell_type": "code",
   "execution_count": 134,
   "id": "7990ef2b",
   "metadata": {
    "scrolled": true
   },
   "outputs": [
    {
     "name": "stdout",
     "output_type": "stream",
     "text": [
      "Total Revenue\n",
      "62,190,000 53,823,000 31,536,000 24,578,000 21,461,268\n",
      "#\n",
      "Cost of Revenue\n",
      "45,339,000 40,217,000 24,906,000 20,509,000 17,419,247\n",
      "#\n",
      "Gross Profit\n",
      "16,851,000 13,606,000 6,630,000 4,069,000 4,042,021\n",
      "#\n",
      "Operating Expense\n",
      "7,245,000 7,110,000 4,636,000 3,989,000 4,294,861\n",
      "#\n",
      "Operating Income\n",
      "9,606,000 6,496,000 1,994,000 80,000 -252,840\n",
      "#\n",
      "Net Non Operating Interest Income Expense\n",
      "-259,000 -315,000 -718,000 -641,000 -638,538\n",
      "#\n",
      "Other Income Expense\n",
      "89,000 162,000 -122,000 -104,000 -113,367\n",
      "#\n",
      "Pretax Income\n",
      "9,436,000 6,343,000 1,154,000 -665,000 -1,004,745\n",
      "#\n",
      "Tax Provision\n",
      "976,000 699,000 292,000 110,000 57,837\n",
      "#\n",
      "Net Income Common Stockholders\n",
      "8,399,000 5,519,000 690,000 -862,000 -976,091\n",
      "#\n",
      "Diluted NI Available to Com Stockholders\n",
      "8,399,000 5,519,000 690,000 -862,000 -976,091\n",
      "#\n",
      "Basic EPS\n",
      "- 5.60 0.74 -0.98 -1.14\n",
      "#\n",
      "Diluted EPS\n",
      "- 4.90 0.64 -0.98 -1.14\n",
      "#\n",
      "Basic Average Shares\n",
      "- 986,000 960,000 885,000 852,625\n",
      "#\n",
      "Diluted Average Shares\n",
      "- 1,129,000 960,000 885,000 852,625\n",
      "#\n",
      "Total Operating Income as Reported\n",
      "-3,514,000 -6,523,000 1,994,000 -69,000 -388,073\n",
      "#\n",
      "Total Expenses\n",
      "52,584,000 47,327,000 29,542,000 24,498,000 21,714,108\n",
      "#\n",
      "Net Income from Continuing & Discontinued Operation\n",
      "8,399,000 5,519,000 690,000 -862,000 -976,091\n",
      "#\n",
      "Normalized Income\n",
      "8,465,346 5,494,970 690,000 -738,330 -877,371\n",
      "#\n",
      "Interest Income\n",
      "74,000 56,000 30,000 44,000 24,533\n",
      "#\n",
      "Interest Expense\n",
      "333,000 371,000 748,000 685,000 663,071\n",
      "#\n",
      "Net Interest Income\n",
      "-259,000 -315,000 -718,000 -641,000 -638,538\n",
      "#\n",
      "EBIT\n",
      "9,769,000 6,714,000 1,902,000 20,000 -341,674\n",
      "#\n",
      "EBITDA\n",
      "12,939,000 - - - -\n",
      "#\n",
      "Reconciled Cost of Revenue\n",
      "45,339,000 40,217,000 24,906,000 20,509,000 17,419,247\n",
      "#\n",
      "Reconciled Depreciation\n",
      "3,170,000 2,911,000 2,322,000 2,154,000 1,901,050\n",
      "#\n",
      "Net Income from Continuing Operation Net Minority Interest\n",
      "8,399,000 5,519,000 690,000 -862,000 -976,091\n",
      "#\n",
      "Total Unusual Items Excluding Goodwill\n",
      "-74,000 27,000 0 -149,000 -135,233\n",
      "#\n",
      "Total Unusual Items\n",
      "-74,000 27,000 0 -149,000 -135,233\n",
      "#\n",
      "Normalized EBITDA\n",
      "13,013,000 9,598,000 4,224,000 2,323,000 1,694,609\n",
      "#\n",
      "Tax Rate for Calcs\n",
      "0 0 0 0 0\n",
      "#\n",
      "Tax Effect of Unusual Items\n",
      "-7,654 2,970 0 -25,330 -36,513\n",
      "#\n"
     ]
    }
   ],
   "source": [
    "for row in rows:\n",
    "    print(row.text.strip())\n",
    "    print(\"#\")"
   ]
  },
  {
   "cell_type": "code",
   "execution_count": 155,
   "id": "3bed16fb",
   "metadata": {
    "scrolled": true
   },
   "outputs": [
    {
     "data": {
      "text/plain": [
       "[['Breakdown', 'TTM', '12/31/2021', '12/31/2020', '12/31/2019', '12/31/2018'],\n",
       " 'Total Revenue\\n62,190,000 53,823,000 31,536,000 24,578,000 21,461,268',\n",
       " 'Cost of Revenue\\n45,339,000 40,217,000 24,906,000 20,509,000 17,419,247',\n",
       " 'Gross Profit\\n16,851,000 13,606,000 6,630,000 4,069,000 4,042,021',\n",
       " 'Operating Expense\\n7,245,000 7,110,000 4,636,000 3,989,000 4,294,861',\n",
       " 'Operating Income\\n9,606,000 6,496,000 1,994,000 80,000 -252,840',\n",
       " 'Net Non Operating Interest Income Expense\\n-259,000 -315,000 -718,000 -641,000 -638,538',\n",
       " 'Other Income Expense\\n89,000 162,000 -122,000 -104,000 -113,367',\n",
       " 'Pretax Income\\n9,436,000 6,343,000 1,154,000 -665,000 -1,004,745',\n",
       " 'Tax Provision\\n976,000 699,000 292,000 110,000 57,837',\n",
       " 'Net Income Common Stockholders\\n8,399,000 5,519,000 690,000 -862,000 -976,091',\n",
       " 'Diluted NI Available to Com Stockholders\\n8,399,000 5,519,000 690,000 -862,000 -976,091',\n",
       " 'Basic EPS\\n- 5.60 0.74 -0.98 -1.14',\n",
       " 'Diluted EPS\\n- 4.90 0.64 -0.98 -1.14',\n",
       " 'Basic Average Shares\\n- 986,000 960,000 885,000 852,625',\n",
       " 'Diluted Average Shares\\n- 1,129,000 960,000 885,000 852,625',\n",
       " 'Total Operating Income as Reported\\n-3,514,000 -6,523,000 1,994,000 -69,000 -388,073',\n",
       " 'Total Expenses\\n52,584,000 47,327,000 29,542,000 24,498,000 21,714,108',\n",
       " 'Net Income from Continuing & Discontinued Operation\\n8,399,000 5,519,000 690,000 -862,000 -976,091',\n",
       " 'Normalized Income\\n8,465,346 5,494,970 690,000 -738,330 -877,371',\n",
       " 'Interest Income\\n74,000 56,000 30,000 44,000 24,533',\n",
       " 'Interest Expense\\n333,000 371,000 748,000 685,000 663,071',\n",
       " 'Net Interest Income\\n-259,000 -315,000 -718,000 -641,000 -638,538',\n",
       " 'EBIT\\n9,769,000 6,714,000 1,902,000 20,000 -341,674',\n",
       " 'EBITDA\\n12,939,000 - - - -',\n",
       " 'Reconciled Cost of Revenue\\n45,339,000 40,217,000 24,906,000 20,509,000 17,419,247',\n",
       " 'Reconciled Depreciation\\n3,170,000 2,911,000 2,322,000 2,154,000 1,901,050',\n",
       " 'Net Income from Continuing Operation Net Minority Interest\\n8,399,000 5,519,000 690,000 -862,000 -976,091',\n",
       " 'Total Unusual Items Excluding Goodwill\\n-74,000 27,000 0 -149,000 -135,233',\n",
       " 'Total Unusual Items\\n-74,000 27,000 0 -149,000 -135,233',\n",
       " 'Normalized EBITDA\\n13,013,000 9,598,000 4,224,000 2,323,000 1,694,609',\n",
       " 'Tax Rate for Calcs\\n0 0 0 0 0',\n",
       " 'Tax Effect of Unusual Items\\n-7,654 2,970 0 -25,330 -36,513']"
      ]
     },
     "execution_count": 155,
     "metadata": {},
     "output_type": "execute_result"
    }
   ],
   "source": [
    "getFinancials('TSLA')"
   ]
  },
  {
   "cell_type": "code",
   "execution_count": 159,
   "id": "44902882",
   "metadata": {},
   "outputs": [],
   "source": [
    "all_output = []\n",
    "for ticker in trending_tickers:\n",
    "    all_output.append(getFinancials(ticker))"
   ]
  },
  {
   "cell_type": "code",
   "execution_count": 137,
   "id": "9d468f0a",
   "metadata": {},
   "outputs": [],
   "source": [
    "#driver.close()"
   ]
  },
  {
   "cell_type": "code",
   "execution_count": null,
   "id": "c2f3bed0",
   "metadata": {},
   "outputs": [],
   "source": []
  }
 ],
 "metadata": {
  "kernelspec": {
   "display_name": "Python 3 (ipykernel)",
   "language": "python",
   "name": "python3"
  },
  "language_info": {
   "codemirror_mode": {
    "name": "ipython",
    "version": 3
   },
   "file_extension": ".py",
   "mimetype": "text/x-python",
   "name": "python",
   "nbconvert_exporter": "python",
   "pygments_lexer": "ipython3",
   "version": "3.8.10"
  }
 },
 "nbformat": 4,
 "nbformat_minor": 5
}
